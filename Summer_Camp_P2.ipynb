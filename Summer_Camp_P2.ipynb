{
  "nbformat": 4,
  "nbformat_minor": 0,
  "metadata": {
    "colab": {
      "name": "Summer-Camp-P2.ipynb",
      "provenance": [],
      "collapsed_sections": [
        "KUElOlDXpDeI",
        "oCnZTjdXNpRX",
        "b8X-zWobtGuL",
        "WB_wSkSFtONc",
        "_LTtsCN9YOKu",
        "9tISQgv_YTqB",
        "L9ZEMEkpCqP8",
        "CvUshPL72JJT",
        "Ky3kL9NSL0Bo",
        "WiYZlfqnYd7r",
        "ANMa-ZWurFYS",
        "tucIT0Y4rZrI",
        "ESLjaCSTlJbZ",
        "n3aYUhVtsDCg",
        "2v4U7GD2FsO7",
        "xTFXgYTRH-xv",
        "8Srkt643IotP",
        "n2CBJguIGpSP",
        "18aCtwSEAjNi",
        "VUcsT9tTIl8P",
        "xeTIcpeLJjW9"
      ],
      "include_colab_link": true
    },
    "kernelspec": {
      "display_name": "Python 3",
      "name": "python3"
    },
    "language_info": {
      "name": "python"
    }
  },
  "cells": [
    {
      "cell_type": "markdown",
      "metadata": {
        "id": "view-in-github",
        "colab_type": "text"
      },
      "source": [
        "<a href=\"https://colab.research.google.com/github/arman-aminian/cafe_bazaar_data_scientist_entrace_task/blob/master/Summer_Camp_P2.ipynb\" target=\"_parent\"><img src=\"https://colab.research.google.com/assets/colab-badge.svg\" alt=\"Open In Colab\"/></a>"
      ]
    },
    {
      "cell_type": "markdown",
      "metadata": {
        "id": "KUElOlDXpDeI"
      },
      "source": [
        "# **Parameters**"
      ]
    },
    {
      "cell_type": "code",
      "metadata": {
        "id": "a3d_urJYpH3Y"
      },
      "source": [
        "LOCAL_RUN = True\n",
        "DATASET_PATH = '/content/gdrive/My Drive/data/Summer Camp/Problem2/'"
      ],
      "execution_count": null,
      "outputs": []
    },
    {
      "cell_type": "markdown",
      "metadata": {
        "id": "oCnZTjdXNpRX"
      },
      "source": [
        "# **Packages**"
      ]
    },
    {
      "cell_type": "markdown",
      "metadata": {
        "id": "b8X-zWobtGuL"
      },
      "source": [
        "## Install"
      ]
    },
    {
      "cell_type": "code",
      "metadata": {
        "id": "tvGPShuUL-2h"
      },
      "source": [
        "!pip install -q transformers\n",
        "!pip install -q hazm\n",
        "!pip install -q clean-text"
      ],
      "execution_count": null,
      "outputs": []
    },
    {
      "cell_type": "code",
      "metadata": {
        "colab": {
          "base_uri": "https://localhost:8080/"
        },
        "id": "Fmxn9ojy7PNF",
        "outputId": "10b5fcb3-a08b-4f81-b1ba-1201871b17f4"
      },
      "source": [
        "!git clone https://github.com/kharazi/persian-stopwords.git"
      ],
      "execution_count": null,
      "outputs": [
        {
          "output_type": "stream",
          "text": [
            "Cloning into 'persian-stopwords'...\n",
            "remote: Enumerating objects: 43, done.\u001b[K\n",
            "remote: Counting objects: 100% (3/3), done.\u001b[K\n",
            "remote: Compressing objects: 100% (3/3), done.\u001b[K\n",
            "remote: Total 43 (delta 0), reused 0 (delta 0), pack-reused 40\u001b[K\n",
            "Unpacking objects: 100% (43/43), done.\n"
          ],
          "name": "stdout"
        }
      ]
    },
    {
      "cell_type": "code",
      "metadata": {
        "colab": {
          "base_uri": "https://localhost:8080/"
        },
        "id": "GuAsauaVEHNY",
        "outputId": "e757d8bf-6654-401a-b057-5bab6ae6cbe7"
      },
      "source": [
        "!git clone https://github.com/keras-team/keras-tuner"
      ],
      "execution_count": null,
      "outputs": [
        {
          "output_type": "stream",
          "text": [
            "Cloning into 'keras-tuner'...\n",
            "remote: Enumerating objects: 7036, done.\u001b[K\n",
            "remote: Counting objects: 100% (394/394), done.\u001b[K\n",
            "remote: Compressing objects: 100% (168/168), done.\u001b[K\n",
            "remote: Total 7036 (delta 212), reused 371 (delta 209), pack-reused 6642\u001b[K\n",
            "Receiving objects: 100% (7036/7036), 1.51 MiB | 1.27 MiB/s, done.\n",
            "Resolving deltas: 100% (4917/4917), done.\n"
          ],
          "name": "stdout"
        }
      ]
    },
    {
      "cell_type": "code",
      "metadata": {
        "colab": {
          "base_uri": "https://localhost:8080/"
        },
        "id": "pD5Ku58HD-kT",
        "outputId": "fa6c3763-f774-42d2-94f9-8ba6efc3821a"
      },
      "source": [
        "cd keras-tuner/"
      ],
      "execution_count": null,
      "outputs": [
        {
          "output_type": "stream",
          "text": [
            "/Users/arman/keras-tuner\n"
          ],
          "name": "stdout"
        }
      ]
    },
    {
      "cell_type": "code",
      "metadata": {
        "id": "rZMy7rVzELcp"
      },
      "source": [
        "!pip install ."
      ],
      "execution_count": null,
      "outputs": []
    },
    {
      "cell_type": "code",
      "metadata": {
        "colab": {
          "base_uri": "https://localhost:8080/"
        },
        "id": "0TiKWzU5EN3q",
        "outputId": "0501e07f-80fb-4f4f-95e1-29f5856265d9"
      },
      "source": [
        "cd .."
      ],
      "execution_count": null,
      "outputs": [
        {
          "output_type": "stream",
          "text": [
            "/Users/arman\n"
          ],
          "name": "stdout"
        }
      ]
    },
    {
      "cell_type": "code",
      "metadata": {
        "colab": {
          "base_uri": "https://localhost:8080/"
        },
        "id": "TviVMmsK7lNF",
        "outputId": "2d90530d-4413-47be-f664-d938a6343f86"
      },
      "source": [
        "cd persian-stopwords"
      ],
      "execution_count": null,
      "outputs": [
        {
          "output_type": "stream",
          "text": [
            "/Users/arman/persian-stopwords\n"
          ],
          "name": "stdout"
        }
      ]
    },
    {
      "cell_type": "code",
      "metadata": {
        "id": "-qu49JEg7dRY"
      },
      "source": [
        "my_file = open(\"persian\", \"r\")\n",
        "content = my_file.read()\n",
        "stopwords1 = content.split(\"\\n\")\n",
        "stopwords1 = stopwords1[:-1]\n",
        "my_file.close()\n",
        "my_file = open(\"short\", \"r\")\n",
        "content = my_file.read()\n",
        "stopwords2 = content.split(\"\\n\")\n",
        "stopwords2 = stopwords2[:-1]\n",
        "my_file.close()\n",
        "my_file = open(\"verbal\", \"r\")\n",
        "content = my_file.read()\n",
        "stopwords3 = content.split(\"\\n\")\n",
        "stopwords3 = stopwords3[:-1]\n",
        "my_file.close()\n",
        "my_file = open(\"nonverbal\", \"r\")\n",
        "content = my_file.read()\n",
        "stopwords4 = content.split(\"\\n\")\n",
        "stopwords4 = stopwords4[:-1]\n",
        "my_file.close()"
      ],
      "execution_count": null,
      "outputs": []
    },
    {
      "cell_type": "code",
      "metadata": {
        "colab": {
          "base_uri": "https://localhost:8080/"
        },
        "id": "jLj4Iih67rjN",
        "outputId": "4c6c02b9-cbdd-4a56-c218-20073ccf6787"
      },
      "source": [
        "cd .."
      ],
      "execution_count": null,
      "outputs": [
        {
          "output_type": "stream",
          "text": [
            "/Users/arman\n"
          ],
          "name": "stdout"
        }
      ]
    },
    {
      "cell_type": "markdown",
      "metadata": {
        "id": "WB_wSkSFtONc"
      },
      "source": [
        "## Import"
      ]
    },
    {
      "cell_type": "code",
      "metadata": {
        "id": "tT9YxGj1RLWm"
      },
      "source": [
        "import numpy as np\n",
        "import pandas as pd\n",
        "import matplotlib.pyplot as plt\n",
        "%matplotlib inline\n",
        "import seaborn as sns\n",
        "\n",
        "from sklearn.model_selection import train_test_split\n",
        "from sklearn.metrics import classification_report\n",
        "from sklearn.metrics import f1_score\n",
        "from sklearn.utils import shuffle\n",
        "from sklearn.preprocessing import OrdinalEncoder\n",
        "from sklearn.metrics import accuracy_score\n",
        "from sklearn.feature_extraction.text import TfidfVectorizer\n",
        "from sklearn.feature_selection import SelectPercentile, f_classif\n",
        "from sklearn.model_selection import cross_val_score\n",
        "from sklearn.svm import LinearSVC, SVC\n",
        "from sklearn.model_selection import GridSearchCV\n",
        "from sklearn.metrics import classification_report, confusion_matrix\n",
        "\n",
        "import hazm\n",
        "from cleantext import clean\n",
        "\n",
        "import os\n",
        "import re\n",
        "import json\n",
        "import copy\n",
        "import collections"
      ],
      "execution_count": null,
      "outputs": []
    },
    {
      "cell_type": "markdown",
      "metadata": {
        "id": "_LTtsCN9YOKu"
      },
      "source": [
        "# **Dataset**"
      ]
    },
    {
      "cell_type": "markdown",
      "metadata": {
        "id": "9tISQgv_YTqB"
      },
      "source": [
        "### Load Dataset"
      ]
    },
    {
      "cell_type": "code",
      "metadata": {
        "id": "LHICkj9ARUDE"
      },
      "source": [
        "if not LOCAL_RUN:\n",
        "  from google.colab import drive\n",
        "  drive.mount('/content/gdrive')"
      ],
      "execution_count": null,
      "outputs": []
    },
    {
      "cell_type": "code",
      "metadata": {
        "id": "JoFfQlk8SI0g"
      },
      "source": [
        "if not LOCAL_RUN:\n",
        "  train = pd.read_csv(DATASET_PATH + 'train_set.csv', index_col='app_id')\n",
        "  test = pd.read_csv(DATASET_PATH + 'test_set.csv', index_col='app_id')"
      ],
      "execution_count": null,
      "outputs": []
    },
    {
      "cell_type": "code",
      "metadata": {
        "colab": {
          "base_uri": "https://localhost:8080/"
        },
        "id": "p_agv7hNE1md",
        "outputId": "3086b44f-6dfc-45ce-81ca-a197da40e978"
      },
      "source": [
        "cd Documents/Uni/Summer\\ Camp/Problem 2"
      ],
      "execution_count": null,
      "outputs": [
        {
          "output_type": "stream",
          "text": [
            "/Users/arman/Documents/Uni/Summer Camp/Problem 2\n"
          ],
          "name": "stdout"
        }
      ]
    },
    {
      "cell_type": "code",
      "metadata": {
        "id": "uk_7iJ2LLbAs"
      },
      "source": [
        "if LOCAL_RUN:\n",
        "  train = pd.read_csv('./dataset/train_set.csv', index_col='app_id')\n",
        "  test = pd.read_csv('./dataset/test_set.csv', index_col='app_id')"
      ],
      "execution_count": null,
      "outputs": []
    },
    {
      "cell_type": "code",
      "metadata": {
        "id": "5F38yB96h0Gg"
      },
      "source": [
        "training_data, validation_data = train_test_split(train, test_size=0.1, random_state=41, shuffle=True)"
      ],
      "execution_count": null,
      "outputs": []
    },
    {
      "cell_type": "markdown",
      "metadata": {
        "id": "L9ZEMEkpCqP8"
      },
      "source": [
        "# **Global Helper Functions**"
      ]
    },
    {
      "cell_type": "markdown",
      "metadata": {
        "id": "CvUshPL72JJT"
      },
      "source": [
        "## Save Model"
      ]
    },
    {
      "cell_type": "code",
      "metadata": {
        "colab": {
          "base_uri": "https://localhost:8080/"
        },
        "id": "Amlu46XP3J0Q",
        "outputId": "518c662e-382a-43cf-f6ea-cea732507d17"
      },
      "source": [
        "# define ordinal encoding\n",
        "encoder = OrdinalEncoder()\n",
        "# transform data\n",
        "train_categories = encoder.fit_transform(train.label.values.reshape(-1, 1))\n",
        "print(train_categories)"
      ],
      "execution_count": null,
      "outputs": [
        {
          "output_type": "stream",
          "text": [
            "[[1.]\n",
            " [1.]\n",
            " [7.]\n",
            " ...\n",
            " [7.]\n",
            " [1.]\n",
            " [0.]]\n"
          ],
          "name": "stdout"
        }
      ]
    },
    {
      "cell_type": "code",
      "metadata": {
        "id": "GgkrB7nO2MqJ"
      },
      "source": [
        "def saveModelResult(model, test_set, file_name):\n",
        "  predicted = model.predict(test_set)\n",
        "  predicted_transformed = encoder.inverse_transform(predicted.reshape(-1, 1))\n",
        "  res = pd.DataFrame({'app_id': test_clean.index.values, 'label': predicted_transformed[:,0]})\n",
        "  print(res.head())\n",
        "  res.to_csv(file_name, index=False)\n",
        "  print(file_name, ' saved!')\n",
        "  return res"
      ],
      "execution_count": null,
      "outputs": []
    },
    {
      "cell_type": "code",
      "metadata": {
        "id": "JB8yzHpFApyR"
      },
      "source": [
        "def eval(y_pred, y_test):\n",
        "  acc = accuracy_score(y_test, y_pred)\n",
        "  print('Accuracy: %.3f' % acc)"
      ],
      "execution_count": null,
      "outputs": []
    },
    {
      "cell_type": "markdown",
      "metadata": {
        "id": "Ky3kL9NSL0Bo"
      },
      "source": [
        "## Class weight"
      ]
    },
    {
      "cell_type": "code",
      "metadata": {
        "id": "Gtpg_i17eob9",
        "colab": {
          "base_uri": "https://localhost:8080/"
        },
        "outputId": "8a947412-2115-46a5-88e5-342de91a3704"
      },
      "source": [
        "from sklearn.utils import class_weight\n",
        "\n",
        "yy = training_data_clean.label\n",
        "weights = class_weight.compute_class_weight('balanced',\n",
        "                                            np.unique(yy),\n",
        "                                            yy)\n",
        "class_weights = {c : w for c, w in enumerate(weights)}"
      ],
      "execution_count": null,
      "outputs": [
        {
          "output_type": "stream",
          "text": [
            "/usr/local/lib/python3.9/site-packages/sklearn/utils/validation.py:70: FutureWarning: Pass classes=[0 1 2 3 4 5 6 7 8 9], y=app_id\n",
            "35804    1\n",
            "23770    3\n",
            "10984    9\n",
            "3442     8\n",
            "7806     5\n",
            "        ..\n",
            "27064    6\n",
            "31597    6\n",
            "20450    3\n",
            "931      8\n",
            "34752    2\n",
            "Name: label, Length: 34109, dtype: int64 as keyword args. From version 1.0 (renaming of 0.25) passing these as positional arguments will result in an error\n",
            "  warnings.warn(f\"Pass {args_msg} as keyword args. From version \"\n"
          ],
          "name": "stderr"
        }
      ]
    },
    {
      "cell_type": "markdown",
      "metadata": {
        "id": "WiYZlfqnYd7r"
      },
      "source": [
        "# **Visualize Data**"
      ]
    },
    {
      "cell_type": "markdown",
      "metadata": {
        "id": "ANMa-ZWurFYS"
      },
      "source": [
        "## Helper functions"
      ]
    },
    {
      "cell_type": "code",
      "metadata": {
        "id": "2ztBk1H5rVZM"
      },
      "source": [
        "def data_between(data, min_value=5, max_value=50):\n",
        "  len_by_words = data.apply(lambda t: len(hazm.word_tokenize(t)))\n",
        "  data_length = len_by_words.values\n",
        "\n",
        "  data_passed = sum([1 for length in data_length if min_value < length <= max_value])\n",
        "  data_passed_rate = (data_passed / len(data_length)) * 100\n",
        "  print(f'Texts with word length between {min_value} and {max_value} includes {data_passed_rate:.2f}% of the whole')"
      ],
      "execution_count": null,
      "outputs": []
    },
    {
      "cell_type": "markdown",
      "metadata": {
        "id": "tucIT0Y4rZrI"
      },
      "source": [
        "## Visualize"
      ]
    },
    {
      "cell_type": "code",
      "metadata": {
        "colab": {
          "base_uri": "https://localhost:8080/",
          "height": 252
        },
        "id": "EBwNzmSmeXwP",
        "outputId": "a4108dea-66e3-4d61-abc9-e0c5055fd085"
      },
      "source": [
        "print(\"train shape :\", train.shape)\n",
        "train.head()"
      ],
      "execution_count": null,
      "outputs": [
        {
          "output_type": "stream",
          "text": [
            "train shape : (37899, 2)\n"
          ],
          "name": "stdout"
        },
        {
          "output_type": "execute_result",
          "data": {
            "text/plain": [
              "                                           description_fa  label\n",
              "app_id                                                          \n",
              "0       <p>بازی مین روب یک برنامه فکری است که باید مین...      1\n",
              "1       <p>دراین بازی تعدادی عکس برای شما نشان داده می...      1\n",
              "2       <br>تلاش نافرجام برای درک «بوفالو»<br>مرگ پایا...      7\n",
              "3       <p>فیلم نما ، برنامه ای برای دانلود و پخش آنلا...      7\n",
              "4       <p>* این برنامه حاوی بیش از 500 عکس و ژست برای...      7"
            ],
            "text/html": [
              "<div>\n",
              "<style scoped>\n",
              "    .dataframe tbody tr th:only-of-type {\n",
              "        vertical-align: middle;\n",
              "    }\n",
              "\n",
              "    .dataframe tbody tr th {\n",
              "        vertical-align: top;\n",
              "    }\n",
              "\n",
              "    .dataframe thead th {\n",
              "        text-align: right;\n",
              "    }\n",
              "</style>\n",
              "<table border=\"1\" class=\"dataframe\">\n",
              "  <thead>\n",
              "    <tr style=\"text-align: right;\">\n",
              "      <th></th>\n",
              "      <th>description_fa</th>\n",
              "      <th>label</th>\n",
              "    </tr>\n",
              "    <tr>\n",
              "      <th>app_id</th>\n",
              "      <th></th>\n",
              "      <th></th>\n",
              "    </tr>\n",
              "  </thead>\n",
              "  <tbody>\n",
              "    <tr>\n",
              "      <th>0</th>\n",
              "      <td>&lt;p&gt;بازی مین روب یک برنامه فکری است که باید مین...</td>\n",
              "      <td>1</td>\n",
              "    </tr>\n",
              "    <tr>\n",
              "      <th>1</th>\n",
              "      <td>&lt;p&gt;دراین بازی تعدادی عکس برای شما نشان داده می...</td>\n",
              "      <td>1</td>\n",
              "    </tr>\n",
              "    <tr>\n",
              "      <th>2</th>\n",
              "      <td>&lt;br&gt;تلاش نافرجام برای درک «بوفالو»&lt;br&gt;مرگ پایا...</td>\n",
              "      <td>7</td>\n",
              "    </tr>\n",
              "    <tr>\n",
              "      <th>3</th>\n",
              "      <td>&lt;p&gt;فیلم نما ، برنامه ای برای دانلود و پخش آنلا...</td>\n",
              "      <td>7</td>\n",
              "    </tr>\n",
              "    <tr>\n",
              "      <th>4</th>\n",
              "      <td>&lt;p&gt;* این برنامه حاوی بیش از 500 عکس و ژست برای...</td>\n",
              "      <td>7</td>\n",
              "    </tr>\n",
              "  </tbody>\n",
              "</table>\n",
              "</div>"
            ]
          },
          "metadata": {
            "tags": []
          },
          "execution_count": 24
        }
      ]
    },
    {
      "cell_type": "code",
      "metadata": {
        "colab": {
          "base_uri": "https://localhost:8080/",
          "height": 333
        },
        "id": "VMUhas87Zb6K",
        "outputId": "8b946c67-7769-4337-9c76-36c4ff3bc4e4"
      },
      "source": [
        "# label frequency\n",
        "plt.hist(train.label, rwidth=0.9, align='left')"
      ],
      "execution_count": null,
      "outputs": [
        {
          "output_type": "execute_result",
          "data": {
            "text/plain": [
              "(array([4000., 4000., 3965., 4000., 4000., 1934., 4000., 4000., 4000.,\n",
              "        4000.]),\n",
              " array([0. , 0.9, 1.8, 2.7, 3.6, 4.5, 5.4, 6.3, 7.2, 8.1, 9. ]),\n",
              " <BarContainer object of 10 artists>)"
            ]
          },
          "metadata": {
            "tags": []
          },
          "execution_count": 25
        },
        {
          "output_type": "display_data",
          "data": {
            "text/plain": [
              "<Figure size 432x288 with 1 Axes>"
            ],
            "image/png": "[encoded data removed]"
          },
          "metadata": {
            "tags": [],
            "needs_background": "light"
          }
        }
      ]
    },
    {
      "cell_type": "code",
      "metadata": {
        "colab": {
          "base_uri": "https://localhost:8080/",
          "height": 384
        },
        "id": "Dbu3q_hiiPv5",
        "outputId": "38d9f914-986f-486d-ef2c-0885e5be4e58"
      },
      "source": [
        "# row len by words\n",
        "len_by_words = train.description_fa.apply(lambda t: len(hazm.word_tokenize(t)))\n",
        "print(f'min: {len_by_words.min()} \\nmax: {len_by_words.max()}')\n",
        "plt.hist(len_by_words)"
      ],
      "execution_count": null,
      "outputs": [
        {
          "output_type": "stream",
          "text": [
            "min: 3 \n",
            "max: 2387\n"
          ],
          "name": "stdout"
        },
        {
          "output_type": "execute_result",
          "data": {
            "text/plain": [
              "(array([3.2068e+04, 4.5790e+03, 8.7700e+02, 3.4300e+02, 2.5000e+01,\n",
              "        4.0000e+00, 0.0000e+00, 0.0000e+00, 2.0000e+00, 1.0000e+00]),\n",
              " array([   3. ,  241.4,  479.8,  718.2,  956.6, 1195. , 1433.4, 1671.8,\n",
              "        1910.2, 2148.6, 2387. ]),\n",
              " <BarContainer object of 10 artists>)"
            ]
          },
          "metadata": {
            "tags": []
          },
          "execution_count": 26
        },
        {
          "output_type": "display_data",
          "data": {
            "text/plain": [
              "<Figure size 432x288 with 1 Axes>"
            ],
            "image/png": "[encoded data removed]"
          },
          "metadata": {
            "tags": [],
            "needs_background": "light"
          }
        }
      ]
    },
    {
      "cell_type": "code",
      "metadata": {
        "colab": {
          "base_uri": "https://localhost:8080/",
          "height": 297
        },
        "id": "vGJipSi0mcrw",
        "outputId": "b793eaa6-0c3d-4d00-e682-c50e7f081d21"
      },
      "source": [
        "# outliers based on words len\n",
        "plt.figure(figsize=(12,4))\n",
        "sns.boxplot(x=len_by_words)"
      ],
      "execution_count": null,
      "outputs": [
        {
          "output_type": "execute_result",
          "data": {
            "text/plain": [
              "<AxesSubplot:xlabel='description_fa'>"
            ]
          },
          "metadata": {
            "tags": []
          },
          "execution_count": 27
        },
        {
          "output_type": "display_data",
          "data": {
            "text/plain": [
              "<Figure size 864x288 with 1 Axes>"
            ],
            "image/png": "[encoded data removed]"
          },
          "metadata": {
            "tags": [],
            "needs_background": "light"
          }
        }
      ]
    },
    {
      "cell_type": "code",
      "metadata": {
        "colab": {
          "base_uri": "https://localhost:8080/"
        },
        "id": "KIJsfO_ro0N1",
        "outputId": "9f724732-a2a4-48ca-833d-08c0ac4dce69"
      },
      "source": [
        "data_between(train.description_fa, 3, 400)"
      ],
      "execution_count": null,
      "outputs": [
        {
          "output_type": "stream",
          "text": [
            "Texts with word length between 3 and 400 includes 94.81% of the whole\n"
          ],
          "name": "stdout"
        }
      ]
    },
    {
      "cell_type": "code",
      "metadata": {
        "id": "fAUmw9gu_o5L"
      },
      "source": [
        "MAX_LEN = 400\n",
        "MIN_LEN = 3"
      ],
      "execution_count": null,
      "outputs": []
    },
    {
      "cell_type": "code",
      "metadata": {
        "colab": {
          "base_uri": "https://localhost:8080/"
        },
        "id": "NmBa5UWfcqss",
        "outputId": "accfc2a4-c112-4a1e-b278-b194c77f241a"
      },
      "source": [
        "# rows with same descriptoin_fa\n",
        "\n",
        "print(\"duplicated :\", len(train[train.duplicated()]))\n",
        "print(\"duplicated based on description_fa :\", len(train[train.duplicated('description_fa')]))"
      ],
      "execution_count": null,
      "outputs": [
        {
          "output_type": "stream",
          "text": [
            "duplicated : 1041\n",
            "duplicated based on description_fa : 1166\n"
          ],
          "name": "stdout"
        }
      ]
    },
    {
      "cell_type": "markdown",
      "metadata": {
        "id": "ESLjaCSTlJbZ"
      },
      "source": [
        "# **Preprocess**"
      ]
    },
    {
      "cell_type": "markdown",
      "metadata": {
        "id": "n3aYUhVtsDCg"
      },
      "source": [
        "## Helper Functions"
      ]
    },
    {
      "cell_type": "code",
      "metadata": {
        "id": "PBqb62V1AfaG"
      },
      "source": [
        "# remove duplicated rows\n",
        "def remove_duplicated(data):\n",
        "  data = data.drop_duplicates(subset=['description_fa'], keep='first')\n",
        "  data = data.reset_index(drop=True)\n",
        "  return data"
      ],
      "execution_count": null,
      "outputs": []
    },
    {
      "cell_type": "code",
      "metadata": {
        "id": "oYl0fDf0_gux"
      },
      "source": [
        "# remove rows with the length of fewer than three words\n",
        "def remove_outliers(data):\n",
        "  data['description_fa'] = data['description_fa'].apply(lambda t: t if MIN_LEN < len(hazm.word_tokenize(t)) <= MAX_LEN else None)\n",
        "  data = data.dropna(subset=['description_fa'])\n",
        "  data = data.reset_index(drop=True)\n",
        "  return data"
      ],
      "execution_count": null,
      "outputs": []
    },
    {
      "cell_type": "code",
      "metadata": {
        "id": "ovQjiUhksO7P"
      },
      "source": [
        "def isEnglish(s):\n",
        "    return s.lower().islower()"
      ],
      "execution_count": null,
      "outputs": []
    },
    {
      "cell_type": "code",
      "metadata": {
        "id": "d8q5pfNPsq0K"
      },
      "source": [
        "def get_total_stopwords():\n",
        "  return set(stopwords1 + stopwords2 + stopwords3 + stopwords4)"
      ],
      "execution_count": null,
      "outputs": []
    },
    {
      "cell_type": "code",
      "metadata": {
        "id": "ChpB_NMYT8X1"
      },
      "source": [
        "def cleaning(text):\n",
        "  # remove spaces\n",
        "  text = text.strip()\n",
        "  \n",
        "  # regular cleaning\n",
        "  text = clean(text,\n",
        "               fix_unicode=True,\n",
        "               to_ascii=False,\n",
        "               lower=True,\n",
        "               no_line_breaks=True,\n",
        "               no_urls=True,\n",
        "               no_emails=True,\n",
        "               no_phone_numbers=True,\n",
        "               no_numbers=True,\n",
        "               no_digits=True,\n",
        "               no_currency_symbols=True,\n",
        "               no_punct=True,\n",
        "               replace_with_url=\"URL\",\n",
        "               replace_with_email=\"EMAIL\",\n",
        "               replace_with_phone_number=\"\",\n",
        "               replace_with_number=\"NUM\",\n",
        "               replace_with_digit=\"DIGIT\",\n",
        "               replace_with_currency_symbol=\"\",\n",
        "               )\n",
        "\n",
        "  # cleaning htmls\n",
        "  cleanr = re.compile('<.*?>')\n",
        "  text = re.sub(cleanr, 'HTML', text)\n",
        "   \n",
        "  # normalizing\n",
        "  normalizer = hazm.Normalizer()\n",
        "  text = normalizer.normalize(text)\n",
        "    \n",
        "  # removing wierd patterns\n",
        "  wierd_pattern = re.compile(\"[\"\n",
        "        u\"\\U0001F600-\\U0001F64F\"  # emoticons\n",
        "        u\"\\U0001F300-\\U0001F5FF\"  # symbols & pictographs\n",
        "        u\"\\U0001F680-\\U0001F6FF\"  # transport & map symbols\n",
        "        u\"\\U0001F1E0-\\U0001F1FF\"  # flags (iOS)\n",
        "        u\"\\U00002702-\\U000027B0\"\n",
        "        u\"\\U000024C2-\\U0001F251\"\n",
        "        u\"\\U0001f926-\\U0001f937\"\n",
        "        u'\\U00010000-\\U0010ffff'\n",
        "        u\"\\u200d\"\n",
        "        u\"\\u2640-\\u2642\"\n",
        "        u\"\\u2600-\\u2B55\"\n",
        "        u\"\\u23cf\"\n",
        "        u\"\\u23e9\"\n",
        "        u\"\\u231a\"\n",
        "        u\"\\u3030\"\n",
        "        u\"\\ufe0f\"\n",
        "        u\"\\u2069\"\n",
        "        u\"\\u2066\"\n",
        "        # u\"\\u200c\"\n",
        "        u\"\\u2068\"\n",
        "        u\"\\u2067\"\n",
        "        \"]+\", flags=re.UNICODE)\n",
        "    \n",
        "  text = wierd_pattern.sub(r'', text)\n",
        "    \n",
        "  # removing extra spaces, hashtags\n",
        "  text = re.sub(\"#\", \"\", text)\n",
        "  text = re.sub(\"\\s+\", \" \", text)\n",
        "\n",
        "  words = hazm.word_tokenize(text)\n",
        "  words = [word for word in words if word not in get_total_stopwords()]\n",
        "  # words = [word for word in words if not isEnglish(word)]\n",
        "  text = \" \".join(words)\n",
        "    \n",
        "  return text"
      ],
      "execution_count": null,
      "outputs": []
    },
    {
      "cell_type": "code",
      "metadata": {
        "id": "AXmKUPbn5fio"
      },
      "source": [
        "def preprocess(data, is_train=True):\n",
        "  data_clean = data.copy()\n",
        "  # if is_train:\n",
        "  #   data_clean = remove_duplicated(data_clean)\n",
        "  #   data_clean = remove_outliers(data_clean)\n",
        "\n",
        "  data_clean.description_fa = data_clean.description_fa.apply(cleaning)\n",
        "  return data_clean"
      ],
      "execution_count": null,
      "outputs": []
    },
    {
      "cell_type": "markdown",
      "metadata": {
        "id": "2v4U7GD2FsO7"
      },
      "source": [
        "## Preprocessing"
      ]
    },
    {
      "cell_type": "code",
      "metadata": {
        "colab": {
          "base_uri": "https://localhost:8080/",
          "height": 235
        },
        "id": "VyogpW5dF9a0",
        "outputId": "e4372e9e-b1d7-4907-8b20-69c267924227"
      },
      "source": [
        "train.head()"
      ],
      "execution_count": null,
      "outputs": [
        {
          "output_type": "execute_result",
          "data": {
            "text/plain": [
              "                                           description_fa  label\n",
              "app_id                                                          \n",
              "0       <p>بازی مین روب یک برنامه فکری است که باید مین...      1\n",
              "1       <p>دراین بازی تعدادی عکس برای شما نشان داده می...      1\n",
              "2       <br>تلاش نافرجام برای درک «بوفالو»<br>مرگ پایا...      7\n",
              "3       <p>فیلم نما ، برنامه ای برای دانلود و پخش آنلا...      7\n",
              "4       <p>* این برنامه حاوی بیش از 500 عکس و ژست برای...      7"
            ],
            "text/html": [
              "<div>\n",
              "<style scoped>\n",
              "    .dataframe tbody tr th:only-of-type {\n",
              "        vertical-align: middle;\n",
              "    }\n",
              "\n",
              "    .dataframe tbody tr th {\n",
              "        vertical-align: top;\n",
              "    }\n",
              "\n",
              "    .dataframe thead th {\n",
              "        text-align: right;\n",
              "    }\n",
              "</style>\n",
              "<table border=\"1\" class=\"dataframe\">\n",
              "  <thead>\n",
              "    <tr style=\"text-align: right;\">\n",
              "      <th></th>\n",
              "      <th>description_fa</th>\n",
              "      <th>label</th>\n",
              "    </tr>\n",
              "    <tr>\n",
              "      <th>app_id</th>\n",
              "      <th></th>\n",
              "      <th></th>\n",
              "    </tr>\n",
              "  </thead>\n",
              "  <tbody>\n",
              "    <tr>\n",
              "      <th>0</th>\n",
              "      <td>&lt;p&gt;بازی مین روب یک برنامه فکری است که باید مین...</td>\n",
              "      <td>1</td>\n",
              "    </tr>\n",
              "    <tr>\n",
              "      <th>1</th>\n",
              "      <td>&lt;p&gt;دراین بازی تعدادی عکس برای شما نشان داده می...</td>\n",
              "      <td>1</td>\n",
              "    </tr>\n",
              "    <tr>\n",
              "      <th>2</th>\n",
              "      <td>&lt;br&gt;تلاش نافرجام برای درک «بوفالو»&lt;br&gt;مرگ پایا...</td>\n",
              "      <td>7</td>\n",
              "    </tr>\n",
              "    <tr>\n",
              "      <th>3</th>\n",
              "      <td>&lt;p&gt;فیلم نما ، برنامه ای برای دانلود و پخش آنلا...</td>\n",
              "      <td>7</td>\n",
              "    </tr>\n",
              "    <tr>\n",
              "      <th>4</th>\n",
              "      <td>&lt;p&gt;* این برنامه حاوی بیش از 500 عکس و ژست برای...</td>\n",
              "      <td>7</td>\n",
              "    </tr>\n",
              "  </tbody>\n",
              "</table>\n",
              "</div>"
            ]
          },
          "metadata": {
            "tags": []
          },
          "execution_count": 51
        }
      ]
    },
    {
      "cell_type": "code",
      "metadata": {
        "colab": {
          "base_uri": "https://localhost:8080/"
        },
        "id": "RnSXNR5MGA5P",
        "outputId": "2d5f79b2-7b74-4e19-8d40-799268afebef"
      },
      "source": [
        "train.description_fa.iloc[0]"
      ],
      "execution_count": null,
      "outputs": [
        {
          "output_type": "execute_result",
          "data": {
            "text/plain": [
              "'<p>بازی مین روب یک برنامه فکری است که باید مین های موجود در صفحه بازی را کشف کنید .قابلیت های این برنامه عبارتند از : <br> </br></p> <p>- دارای سطوح مختلف دشواری از آسان به سخت <br> </br></p> <p>- امکان تعریف بازی سفارشی <br> </br></p> <p>- نمایش آمار بازی ها و عملکرد شما <br> </br></p> <p>- ذخیره تمام بازی های ناتمام، در این صورت میتوانید در آینده به قسمت بازی های ذخیره شده مراجعه کنید و بازی را ادامه دهید. <br> </br></p> <p>از سایر برنامه و بازی های متنوع ما نیز دیدن کنید. <br> </br></p> <p>سپاسگزارم. <br> </br></p>'"
            ]
          },
          "metadata": {
            "tags": []
          },
          "execution_count": 52
        }
      ]
    },
    {
      "cell_type": "code",
      "metadata": {
        "id": "SQh9DKmoHSFo"
      },
      "source": [
        "train_clean = preprocess(train)"
      ],
      "execution_count": null,
      "outputs": []
    },
    {
      "cell_type": "code",
      "metadata": {
        "id": "ofE_XNcWiJRZ"
      },
      "source": [
        "training_data_clean = preprocess(training_data)\n",
        "validation_data_clean = preprocess(validation_data, False)"
      ],
      "execution_count": null,
      "outputs": []
    },
    {
      "cell_type": "code",
      "metadata": {
        "id": "pngbcIiF-oY3"
      },
      "source": [
        "X_train, y_train = training_data_clean.description_fa.values.tolist(), training_data_clean.label.values.tolist()\n",
        "X_valid, y_valid = validation_data_clean.description_fa.values.tolist(), validation_data_clean.label.values.tolist()"
      ],
      "execution_count": null,
      "outputs": []
    },
    {
      "cell_type": "code",
      "metadata": {
        "id": "b1Zz4TU-KY4B"
      },
      "source": [
        "test_clean = preprocess(test, is_train=False)"
      ],
      "execution_count": null,
      "outputs": []
    },
    {
      "cell_type": "code",
      "metadata": {
        "colab": {
          "base_uri": "https://localhost:8080/"
        },
        "id": "NM5ncPuo5rDp",
        "outputId": "feab3c03-dbd5-43d5-c52f-0d9df90ea1cf"
      },
      "source": [
        "print(\"raw train data shape :\", train.shape)\n",
        "print(\"clean train data shape :\", train_clean.shape)"
      ],
      "execution_count": null,
      "outputs": [
        {
          "output_type": "stream",
          "text": [
            "raw train data shape : (37899, 2)\n",
            "clean train data shape : (37899, 2)\n"
          ],
          "name": "stdout"
        }
      ]
    },
    {
      "cell_type": "code",
      "metadata": {
        "colab": {
          "base_uri": "https://localhost:8080/",
          "height": 235
        },
        "id": "Y6aVRGLzqaug",
        "outputId": "a17a3016-215e-4dbf-a182-9cea4323a4df"
      },
      "source": [
        "train_clean.head()"
      ],
      "execution_count": null,
      "outputs": [
        {
          "output_type": "execute_result",
          "data": {
            "text/plain": [
              "                                           description_fa  label\n",
              "app_id                                                          \n",
              "0       HTMLبازی مین برنامه فکری مین‌های موجود صفحه با...      1\n",
              "1       HTMLدراین بازی عکس داده_می‌شود خاطر سپرده جواب...      1\n",
              "2       HTMLتلاش نافرجام درک بوفالو HTMLمرگ پایان ماجر...      7\n",
              "3       HTMLفیلم نما برنامه‌ای دانلود پخش آنلاین فیلم ...      7\n",
              "4       HTML* برنامه حاوی num عکس ژست مدل عکاسی شدنه ک...      7"
            ],
            "text/html": [
              "<div>\n",
              "<style scoped>\n",
              "    .dataframe tbody tr th:only-of-type {\n",
              "        vertical-align: middle;\n",
              "    }\n",
              "\n",
              "    .dataframe tbody tr th {\n",
              "        vertical-align: top;\n",
              "    }\n",
              "\n",
              "    .dataframe thead th {\n",
              "        text-align: right;\n",
              "    }\n",
              "</style>\n",
              "<table border=\"1\" class=\"dataframe\">\n",
              "  <thead>\n",
              "    <tr style=\"text-align: right;\">\n",
              "      <th></th>\n",
              "      <th>description_fa</th>\n",
              "      <th>label</th>\n",
              "    </tr>\n",
              "    <tr>\n",
              "      <th>app_id</th>\n",
              "      <th></th>\n",
              "      <th></th>\n",
              "    </tr>\n",
              "  </thead>\n",
              "  <tbody>\n",
              "    <tr>\n",
              "      <th>0</th>\n",
              "      <td>HTMLبازی مین برنامه فکری مین‌های موجود صفحه با...</td>\n",
              "      <td>1</td>\n",
              "    </tr>\n",
              "    <tr>\n",
              "      <th>1</th>\n",
              "      <td>HTMLدراین بازی عکس داده_می‌شود خاطر سپرده جواب...</td>\n",
              "      <td>1</td>\n",
              "    </tr>\n",
              "    <tr>\n",
              "      <th>2</th>\n",
              "      <td>HTMLتلاش نافرجام درک بوفالو HTMLمرگ پایان ماجر...</td>\n",
              "      <td>7</td>\n",
              "    </tr>\n",
              "    <tr>\n",
              "      <th>3</th>\n",
              "      <td>HTMLفیلم نما برنامه‌ای دانلود پخش آنلاین فیلم ...</td>\n",
              "      <td>7</td>\n",
              "    </tr>\n",
              "    <tr>\n",
              "      <th>4</th>\n",
              "      <td>HTML* برنامه حاوی num عکس ژست مدل عکاسی شدنه ک...</td>\n",
              "      <td>7</td>\n",
              "    </tr>\n",
              "  </tbody>\n",
              "</table>\n",
              "</div>"
            ]
          },
          "metadata": {
            "tags": []
          },
          "execution_count": 59
        }
      ]
    },
    {
      "cell_type": "code",
      "metadata": {
        "colab": {
          "base_uri": "https://localhost:8080/"
        },
        "id": "PgVwd0NwGHdA",
        "outputId": "dbaaf63d-c695-498a-fd93-10d74017c96c"
      },
      "source": [
        "train_clean.description_fa.iloc[0]"
      ],
      "execution_count": null,
      "outputs": [
        {
          "output_type": "execute_result",
          "data": {
            "text/plain": [
              "'HTMLبازی مین برنامه فکری مین\\u200cهای موجود صفحه بازی کشف قابلیت\\u200cهای برنامه HTML HTMLHTML HTML- دارای سطوح دشواری HTML HTMLHTML HTML- امکان تعریف بازی سفارشی HTML HTMLHTML HTML- نمایش آمار بازی\\u200cها عملکرد HTML HTMLHTML HTML- ذخیره بازی\\u200cهای ناتمام میتوانید آینده قسمت بازی\\u200cهای ذخیره مراجعه بازی ادامه HTML HTMLHTML HTMLاز برنامه بازی\\u200cهای متنوع دیدن HTML HTMLHTML HTMLسپاسگزارم HTML HTMLHTML'"
            ]
          },
          "metadata": {
            "tags": []
          },
          "execution_count": 60
        }
      ]
    },
    {
      "cell_type": "markdown",
      "metadata": {
        "id": "xTFXgYTRH-xv"
      },
      "source": [
        "# **Models**"
      ]
    },
    {
      "cell_type": "markdown",
      "metadata": {
        "id": "8Srkt643IotP"
      },
      "source": [
        "## LSTM - 72.3% accuracy"
      ]
    },
    {
      "cell_type": "code",
      "metadata": {
        "id": "eZJEtAsQJQEf"
      },
      "source": [
        "from tensorflow import keras\n",
        "from tensorflow.keras.preprocessing.text import Tokenizer\n",
        "from tensorflow.keras.preprocessing.sequence import pad_sequences\n",
        "from tensorflow.keras.models import Sequential\n",
        "from tensorflow.keras.layers import Dense, Embedding, LSTM, SpatialDropout1D, Bidirectional, GlobalMaxPooling1D, Conv1D, MaxPooling1D, Dropout, Conv1D, GlobalMaxPool1D, Activation\n",
        "from sklearn.utils import class_weight"
      ],
      "execution_count": null,
      "outputs": []
    },
    {
      "cell_type": "code",
      "metadata": {
        "id": "1NXEdwdmIs-M"
      },
      "source": [
        "MAX_NB_WORDS = 30000\n",
        "MAX_SEQUENCE_LENGTH = 150\n",
        "EMBEDDING_DIM = 100\n",
        "\n",
        "tokenizer = Tokenizer(num_words=MAX_NB_WORDS, filters='!\"#$%&()*+,-./:;<=>?@[\\]^_`{|}~', lower=True)\n",
        "tokenizer.fit_on_texts(train_clean.description_fa.values)\n",
        "word_index = tokenizer.word_index\n",
        "\n",
        "X = tokenizer.texts_to_sequences(train_clean.description_fa.values)\n",
        "X = pad_sequences(X, maxlen=MAX_SEQUENCE_LENGTH)\n",
        "\n",
        "Y = pd.get_dummies(train_clean.label.values).values\n",
        "\n",
        "x_test = tokenizer.texts_to_sequences(test_clean.description_fa.values)\n",
        "x_test = pad_sequences(x_test, maxlen=MAX_SEQUENCE_LENGTH)"
      ],
      "execution_count": null,
      "outputs": []
    },
    {
      "cell_type": "code",
      "metadata": {
        "id": "tkk_YJsg2Evg"
      },
      "source": [
        "yy = np.argmax(Y, axis=1)\n",
        "weights = class_weight.compute_class_weight('balanced',\n",
        "                                            np.unique(yy),\n",
        "                                            yy)\n",
        "class_weights = {c : w for c, w in enumerate(weights)}"
      ],
      "execution_count": null,
      "outputs": []
    },
    {
      "cell_type": "code",
      "metadata": {
        "colab": {
          "base_uri": "https://localhost:8080/"
        },
        "id": "xv6XNQ0UKrki",
        "outputId": "8c0e7016-dfe6-489c-e24c-91a8414a5bdd"
      },
      "source": [
        "model = Sequential()\n",
        "model.add(Embedding(MAX_NB_WORDS, EMBEDDING_DIM, input_length=X.shape[1]))\n",
        "model.add(SpatialDropout1D(0.4))\n",
        "model.add(LSTM(400, dropout=0.5))\n",
        "model.add(Dense(10, activation='softmax'))\n",
        "model.compile(loss='categorical_crossentropy', optimizer='rmsprop', metrics=['accuracy'])\n",
        "print(model.summary())"
      ],
      "execution_count": null,
      "outputs": [
        {
          "output_type": "stream",
          "text": [
            "Model: \"sequential_12\"\n",
            "_________________________________________________________________\n",
            "Layer (type)                 Output Shape              Param #   \n",
            "=================================================================\n",
            "embedding_12 (Embedding)     (None, 150, 100)          1000000   \n",
            "_________________________________________________________________\n",
            "spatial_dropout1d_12 (Spatia (None, 150, 100)          0         \n",
            "_________________________________________________________________\n",
            "lstm_12 (LSTM)               (None, 400)               801600    \n",
            "_________________________________________________________________\n",
            "dense_12 (Dense)             (None, 10)                4010      \n",
            "=================================================================\n",
            "Total params: 1,805,610\n",
            "Trainable params: 1,805,610\n",
            "Non-trainable params: 0\n",
            "_________________________________________________________________\n",
            "None\n"
          ],
          "name": "stdout"
        }
      ]
    },
    {
      "cell_type": "code",
      "metadata": {
        "colab": {
          "base_uri": "https://localhost:8080/"
        },
        "id": "NsrsdjZeLBmQ",
        "outputId": "bbcdd35e-a9fe-405f-93fa-b0c2c52b997a"
      },
      "source": [
        "epochs = 7\n",
        "batch_size = 64\n",
        "\n",
        "history = model.fit(X, Y, shuffle=True, epochs=epochs, batch_size=batch_size,validation_split=0.1, class_weight=class_weights)"
      ],
      "execution_count": null,
      "outputs": [
        {
          "output_type": "stream",
          "text": [
            "Epoch 1/7\n",
            "490/490 [==============================] - 17s 32ms/step - loss: 1.9472 - accuracy: 0.2417 - val_loss: 1.3676 - val_accuracy: 0.4930\n",
            "Epoch 2/7\n",
            "490/490 [==============================] - 16s 32ms/step - loss: 1.2252 - accuracy: 0.5205 - val_loss: 1.1991 - val_accuracy: 0.5430\n",
            "Epoch 3/7\n",
            "490/490 [==============================] - 15s 32ms/step - loss: 0.9881 - accuracy: 0.6505 - val_loss: 1.0536 - val_accuracy: 0.6269\n",
            "Epoch 4/7\n",
            "490/490 [==============================] - 15s 31ms/step - loss: 0.8545 - accuracy: 0.7022 - val_loss: 0.9784 - val_accuracy: 0.6712\n",
            "Epoch 5/7\n",
            "490/490 [==============================] - 15s 31ms/step - loss: 0.7944 - accuracy: 0.7202 - val_loss: 0.9157 - val_accuracy: 0.6945\n",
            "Epoch 6/7\n",
            "490/490 [==============================] - 15s 31ms/step - loss: 0.7389 - accuracy: 0.7401 - val_loss: 0.8281 - val_accuracy: 0.7068\n",
            "Epoch 7/7\n",
            "490/490 [==============================] - 15s 30ms/step - loss: 0.7027 - accuracy: 0.7545 - val_loss: 0.9353 - val_accuracy: 0.6890\n"
          ],
          "name": "stdout"
        }
      ]
    },
    {
      "cell_type": "code",
      "metadata": {
        "colab": {
          "base_uri": "https://localhost:8080/"
        },
        "id": "TjZK0815Sq15",
        "outputId": "8963bfdd-13fd-4a28-e274-fcc7471aeace"
      },
      "source": [
        "history = model.fit(X, Y, shuffle=True, epochs=1, batch_size=batch_size,validation_split=0.1, class_weight=class_weights)"
      ],
      "execution_count": null,
      "outputs": [
        {
          "output_type": "stream",
          "text": [
            "490/490 [==============================] - 15s 31ms/step - loss: 0.6765 - accuracy: 0.7620 - val_loss: 0.8235 - val_accuracy: 0.7097\n"
          ],
          "name": "stdout"
        }
      ]
    },
    {
      "cell_type": "code",
      "metadata": {
        "id": "iSOpZ8Ji2br7"
      },
      "source": [
        "saveModelResult(model2, x_test, \"model_lstm_300\")"
      ],
      "execution_count": null,
      "outputs": []
    },
    {
      "cell_type": "markdown",
      "metadata": {
        "id": "n2CBJguIGpSP"
      },
      "source": [
        "### parameter tuner"
      ]
    },
    {
      "cell_type": "code",
      "metadata": {
        "id": "MkMx4wtQMnBH"
      },
      "source": [
        "import kerastuner as kt\n",
        "from kerastuner import HyperModel\n",
        "\n",
        "class HyperModel(HyperModel):\n",
        "    def __init__(self, input_shape):\n",
        "        self.input_shape = input_shape\n",
        "\n",
        "    def build(self, hp):\n",
        "      model = Sequential()\n",
        "      model.add(Embedding(MAX_NB_WORDS, EMBEDDING_DIM, input_length=input_shape))\n",
        "      model.add(SpatialDropout1D(hp.Float('drop1', 0.4, 0.6, default=0.4)))\n",
        "      model.add(Bidirectional(LSTM(hp.Int('lstm', 400, 600, default=400), dropout=hp.Float('drop1z', 0.5, 0.6, default=0.5))))\n",
        "      model.add(Dense(10, activation='softmax'))\n",
        "      model.compile(loss=hp.choice('loss', values=['mse', 'categorical_crossentropy'], default='categorical_crossentropy'),\n",
        "                    optimizer=hp.Choice('optimizer', values=['adam', 'rmsprop'], default='rmsprop'),\n",
        "                    metrics=['accuracy'])\n",
        "      return model"
      ],
      "execution_count": null,
      "outputs": []
    },
    {
      "cell_type": "code",
      "metadata": {
        "id": "FNTaS-X1PjJD"
      },
      "source": [
        "input_shape = (X.shape[1])\n",
        "hypermodel = HyperModel(input_shape)"
      ],
      "execution_count": null,
      "outputs": []
    },
    {
      "cell_type": "code",
      "metadata": {
        "id": "D6zsHkmaNXSk"
      },
      "source": [
        "tuner_rs = kt.tuners.randomsearch.RandomSearch(\n",
        "            hypermodel,\n",
        "            objective='mse',\n",
        "            seed=42,\n",
        "            max_trials=7,\n",
        "            executions_per_trial=2)"
      ],
      "execution_count": null,
      "outputs": []
    },
    {
      "cell_type": "code",
      "metadata": {
        "id": "dbddBNGySkf7"
      },
      "source": [
        "tuner_rs.search(X, Y, epochs=7, validation_split=0.1, verbose=0)"
      ],
      "execution_count": null,
      "outputs": []
    },
    {
      "cell_type": "markdown",
      "metadata": {
        "id": "18aCtwSEAjNi"
      },
      "source": [
        "### bidirectional lstm"
      ]
    },
    {
      "cell_type": "code",
      "metadata": {
        "colab": {
          "base_uri": "https://localhost:8080/"
        },
        "id": "4jasyDtyA6ui",
        "outputId": "f0d14356-6bf6-4c42-d1c5-3fa542c3b3cd"
      },
      "source": [
        "model3 = Sequential()\n",
        "model3.add(Embedding(MAX_NB_WORDS, EMBEDDING_DIM, input_length=X.shape[1]))\n",
        "model3.add(SpatialDropout1D(0.4))\n",
        "model3.add(Bidirectional(LSTM(400, dropout=0.5)))\n",
        "model3.add(Dense(10, activation='softmax'))\n",
        "model3.compile(loss='categorical_crossentropy', optimizer='rmsprop', metrics=['accuracy'])\n",
        "print(model3.summary())"
      ],
      "execution_count": null,
      "outputs": [
        {
          "output_type": "stream",
          "text": [
            "Model: \"sequential_2\"\n",
            "_________________________________________________________________\n",
            "Layer (type)                 Output Shape              Param #   \n",
            "=================================================================\n",
            "embedding_2 (Embedding)      (None, 150, 100)          3000000   \n",
            "_________________________________________________________________\n",
            "spatial_dropout1d_2 (Spatial (None, 150, 100)          0         \n",
            "_________________________________________________________________\n",
            "bidirectional_2 (Bidirection (None, 800)               1603200   \n",
            "_________________________________________________________________\n",
            "dense_2 (Dense)              (None, 10)                8010      \n",
            "=================================================================\n",
            "Total params: 4,611,210\n",
            "Trainable params: 4,611,210\n",
            "Non-trainable params: 0\n",
            "_________________________________________________________________\n",
            "None\n"
          ],
          "name": "stdout"
        }
      ]
    },
    {
      "cell_type": "code",
      "metadata": {
        "colab": {
          "background_save": true,
          "base_uri": "https://localhost:8080/",
          "height": 477
        },
        "id": "Q8o-VugRBA_h",
        "outputId": "e9576cdc-c07f-4056-efce-188c7d462b3f"
      },
      "source": [
        "epochs = 7\n",
        "batch_size = 128\n",
        "\n",
        "history = model3.fit(X, Y, shuffle=True, epochs=epochs, batch_size=batch_size,validation_split=0.1)"
      ],
      "execution_count": null,
      "outputs": [
        {
          "output_type": "stream",
          "text": [
            "Epoch 1/7\n",
            "245/245 [==============================] - 860s 3s/step - loss: 1.8487 - accuracy: 0.2469 - val_loss: 1.6626 - val_accuracy: 0.3490\n",
            "Epoch 2/7\n",
            "245/245 [==============================] - 857s 3s/step - loss: 1.3541 - accuracy: 0.4582 - val_loss: 1.1538 - val_accuracy: 0.5720\n",
            "Epoch 3/7\n",
            "245/245 [==============================] - 856s 3s/step - loss: 1.0953 - accuracy: 0.5965 - val_loss: 1.1945 - val_accuracy: 0.5709\n",
            "Epoch 4/7\n",
            "245/245 [==============================] - 855s 3s/step - loss: 0.9371 - accuracy: 0.6666 - val_loss: 0.9271 - val_accuracy: 0.6717\n",
            "Epoch 5/7\n",
            "245/245 [==============================] - 853s 3s/step - loss: 0.8318 - accuracy: 0.7075 - val_loss: 0.9110 - val_accuracy: 0.6720\n",
            "Epoch 6/7\n",
            "245/245 [==============================] - 854s 3s/step - loss: 0.7636 - accuracy: 0.7345 - val_loss: 0.9981 - val_accuracy: 0.6766\n",
            "Epoch 7/7\n",
            " 79/245 [========>.....................] - ETA: 9:20 - loss: 0.7108 - accuracy: 0.7522"
          ],
          "name": "stdout"
        }
      ]
    },
    {
      "cell_type": "code",
      "metadata": {
        "colab": {
          "base_uri": "https://localhost:8080/"
        },
        "id": "NXw30fnwDDs0",
        "outputId": "ac54c199-0b1e-4668-a484-c6e8ba7fa5c4"
      },
      "source": [
        "history = model3.fit(X, Y, shuffle=True, epochs=1, batch_size=batch_size,validation_split=0.1)"
      ],
      "execution_count": null,
      "outputs": [
        {
          "output_type": "stream",
          "text": [
            "245/245 [==============================] - 22s 88ms/step - loss: 0.6628 - accuracy: 0.7720 - val_loss: 0.8665 - val_accuracy: 0.6991\n"
          ],
          "name": "stdout"
        }
      ]
    },
    {
      "cell_type": "code",
      "metadata": {
        "colab": {
          "base_uri": "https://localhost:8080/"
        },
        "id": "unZTYDWaHab7",
        "outputId": "df595a4f-5620-4060-ab4c-b0f321712d26"
      },
      "source": [
        "history = model3.fit(X, Y, shuffle=True, epochs=1, batch_size=batch_size,validation_split=0.1)"
      ],
      "execution_count": null,
      "outputs": [
        {
          "output_type": "stream",
          "text": [
            "245/245 [==============================] - 41s 169ms/step - loss: 0.4993 - accuracy: 0.8318 - val_loss: 0.8509 - val_accuracy: 0.7180\n"
          ],
          "name": "stdout"
        }
      ]
    },
    {
      "cell_type": "code",
      "metadata": {
        "colab": {
          "base_uri": "https://localhost:8080/",
          "height": 626
        },
        "id": "9XEZkc0DIWpw",
        "outputId": "c350eac9-c4ae-4fa2-8c51-c83b7c3ea019"
      },
      "source": [
        "saveModelResult(model3, x_test, \"bidirectional_model2\")"
      ],
      "execution_count": null,
      "outputs": [
        {
          "output_type": "stream",
          "text": [
            "/usr/local/lib/python3.7/dist-packages/keras/engine/sequential.py:450: UserWarning:\n",
            "\n",
            "`model.predict_classes()` is deprecated and will be removed after 2021-01-01. Please use instead:* `np.argmax(model.predict(x), axis=-1)`,   if your model does multi-class classification   (e.g. if it uses a `softmax` last-layer activation).* `(model.predict(x) > 0.5).astype(\"int32\")`,   if your model does binary classification   (e.g. if it uses a `sigmoid` last-layer activation).\n",
            "\n"
          ],
          "name": "stderr"
        },
        {
          "output_type": "stream",
          "text": [
            "   app_id  label\n",
            "0   40000      6\n",
            "1   40001      5\n",
            "2   40002      5\n",
            "3   40003      9\n",
            "4   40004      3\n",
            "bidirectional_model2  saved!\n"
          ],
          "name": "stdout"
        },
        {
          "output_type": "execute_result",
          "data": {
            "text/html": [
              "<div>\n",
              "<style scoped>\n",
              "    .dataframe tbody tr th:only-of-type {\n",
              "        vertical-align: middle;\n",
              "    }\n",
              "\n",
              "    .dataframe tbody tr th {\n",
              "        vertical-align: top;\n",
              "    }\n",
              "\n",
              "    .dataframe thead th {\n",
              "        text-align: right;\n",
              "    }\n",
              "</style>\n",
              "<table border=\"1\" class=\"dataframe\">\n",
              "  <thead>\n",
              "    <tr style=\"text-align: right;\">\n",
              "      <th></th>\n",
              "      <th>app_id</th>\n",
              "      <th>label</th>\n",
              "    </tr>\n",
              "  </thead>\n",
              "  <tbody>\n",
              "    <tr>\n",
              "      <th>0</th>\n",
              "      <td>40000</td>\n",
              "      <td>6</td>\n",
              "    </tr>\n",
              "    <tr>\n",
              "      <th>1</th>\n",
              "      <td>40001</td>\n",
              "      <td>5</td>\n",
              "    </tr>\n",
              "    <tr>\n",
              "      <th>2</th>\n",
              "      <td>40002</td>\n",
              "      <td>5</td>\n",
              "    </tr>\n",
              "    <tr>\n",
              "      <th>3</th>\n",
              "      <td>40003</td>\n",
              "      <td>9</td>\n",
              "    </tr>\n",
              "    <tr>\n",
              "      <th>4</th>\n",
              "      <td>40004</td>\n",
              "      <td>3</td>\n",
              "    </tr>\n",
              "    <tr>\n",
              "      <th>...</th>\n",
              "      <td>...</td>\n",
              "      <td>...</td>\n",
              "    </tr>\n",
              "    <tr>\n",
              "      <th>9995</th>\n",
              "      <td>49995</td>\n",
              "      <td>9</td>\n",
              "    </tr>\n",
              "    <tr>\n",
              "      <th>9996</th>\n",
              "      <td>49996</td>\n",
              "      <td>9</td>\n",
              "    </tr>\n",
              "    <tr>\n",
              "      <th>9997</th>\n",
              "      <td>49997</td>\n",
              "      <td>6</td>\n",
              "    </tr>\n",
              "    <tr>\n",
              "      <th>9998</th>\n",
              "      <td>49998</td>\n",
              "      <td>5</td>\n",
              "    </tr>\n",
              "    <tr>\n",
              "      <th>9999</th>\n",
              "      <td>49999</td>\n",
              "      <td>3</td>\n",
              "    </tr>\n",
              "  </tbody>\n",
              "</table>\n",
              "<p>10000 rows × 2 columns</p>\n",
              "</div>"
            ],
            "text/plain": [
              "      app_id  label\n",
              "0      40000      6\n",
              "1      40001      5\n",
              "2      40002      5\n",
              "3      40003      9\n",
              "4      40004      3\n",
              "...      ...    ...\n",
              "9995   49995      9\n",
              "9996   49996      9\n",
              "9997   49997      6\n",
              "9998   49998      5\n",
              "9999   49999      3\n",
              "\n",
              "[10000 rows x 2 columns]"
            ]
          },
          "metadata": {
            "tags": []
          },
          "execution_count": 41
        }
      ]
    },
    {
      "cell_type": "markdown",
      "metadata": {
        "id": "VUcsT9tTIl8P"
      },
      "source": [
        "## TfIdf Vectorizer"
      ]
    },
    {
      "cell_type": "code",
      "metadata": {
        "id": "4WkPh7GHU5kg"
      },
      "source": [
        "tfIdfVectorizer=TfidfVectorizer(sublinear_tf=True, ngram_range = (1, 2))\n",
        "train_x = tfIdfVectorizer.fit_transform(train_clean.description_fa)\n",
        "valid_tfIdf = tfIdfVectorizer.transform(validation_data_clean.description_fa)\n",
        "test_tfIdf = tfIdfVectorizer.transform(test_clean.description_fa)"
      ],
      "execution_count": null,
      "outputs": []
    },
    {
      "cell_type": "code",
      "metadata": {
        "id": "pY9erpcFzRCC"
      },
      "source": [
        "param_grid = {'C': [0.1,0.5,1,5,10], 'gamma': [1,0.1,0.01],'kernel': ['rbf', 'poly', 'linear']}\n",
        "grid = GridSearchCV(SVC(class_weight=class_weights),param_grid,refit = True, verbose=2)\n",
        "grid.fit(train_x, train_clean.label)"
      ],
      "execution_count": null,
      "outputs": []
    },
    {
      "cell_type": "code",
      "metadata": {
        "colab": {
          "base_uri": "https://localhost:8080/"
        },
        "id": "fgIiHvwou6oW",
        "outputId": "5e97a05b-bf86-43bc-a514-9256af24659b"
      },
      "source": [
        "y_pred = grid.predict(valid_tfIdf)\n",
        "eval(y_pred, validation_data_clean.label)"
      ],
      "execution_count": null,
      "outputs": [
        {
          "output_type": "stream",
          "text": [
            "Accuracy: 0.755\n"
          ],
          "name": "stdout"
        }
      ]
    },
    {
      "cell_type": "code",
      "metadata": {
        "id": "zcJr6sIjS002"
      },
      "source": [
        "scores = cross_val_score(clf, train_x, training_data_clean.label, cv=5)"
      ],
      "execution_count": null,
      "outputs": []
    },
    {
      "cell_type": "code",
      "metadata": {
        "colab": {
          "base_uri": "https://localhost:8080/",
          "height": 538
        },
        "id": "VHq1LBMMO6yP",
        "outputId": "fa34e802-f8a3-4315-8205-3d5f8b84a764"
      },
      "source": [
        "saveModelResult(clf, test_tfIdf, \"model_svc_t_0.5\")"
      ],
      "execution_count": null,
      "outputs": [
        {
          "output_type": "stream",
          "text": [
            "   app_id  label\n",
            "0   40000      6\n",
            "1   40001      8\n",
            "2   40002      5\n",
            "3   40003      9\n",
            "4   40004      3\n",
            "model_svc_t_0.5  saved!\n"
          ],
          "name": "stdout"
        },
        {
          "output_type": "execute_result",
          "data": {
            "text/plain": [
              "      app_id  label\n",
              "0      40000      6\n",
              "1      40001      8\n",
              "2      40002      5\n",
              "3      40003      9\n",
              "4      40004      3\n",
              "...      ...    ...\n",
              "9995   49995      9\n",
              "9996   49996      9\n",
              "9997   49997      6\n",
              "9998   49998      5\n",
              "9999   49999      5\n",
              "\n",
              "[10000 rows x 2 columns]"
            ],
            "text/html": [
              "<div>\n",
              "<style scoped>\n",
              "    .dataframe tbody tr th:only-of-type {\n",
              "        vertical-align: middle;\n",
              "    }\n",
              "\n",
              "    .dataframe tbody tr th {\n",
              "        vertical-align: top;\n",
              "    }\n",
              "\n",
              "    .dataframe thead th {\n",
              "        text-align: right;\n",
              "    }\n",
              "</style>\n",
              "<table border=\"1\" class=\"dataframe\">\n",
              "  <thead>\n",
              "    <tr style=\"text-align: right;\">\n",
              "      <th></th>\n",
              "      <th>app_id</th>\n",
              "      <th>label</th>\n",
              "    </tr>\n",
              "  </thead>\n",
              "  <tbody>\n",
              "    <tr>\n",
              "      <th>0</th>\n",
              "      <td>40000</td>\n",
              "      <td>6</td>\n",
              "    </tr>\n",
              "    <tr>\n",
              "      <th>1</th>\n",
              "      <td>40001</td>\n",
              "      <td>8</td>\n",
              "    </tr>\n",
              "    <tr>\n",
              "      <th>2</th>\n",
              "      <td>40002</td>\n",
              "      <td>5</td>\n",
              "    </tr>\n",
              "    <tr>\n",
              "      <th>3</th>\n",
              "      <td>40003</td>\n",
              "      <td>9</td>\n",
              "    </tr>\n",
              "    <tr>\n",
              "      <th>4</th>\n",
              "      <td>40004</td>\n",
              "      <td>3</td>\n",
              "    </tr>\n",
              "    <tr>\n",
              "      <th>...</th>\n",
              "      <td>...</td>\n",
              "      <td>...</td>\n",
              "    </tr>\n",
              "    <tr>\n",
              "      <th>9995</th>\n",
              "      <td>49995</td>\n",
              "      <td>9</td>\n",
              "    </tr>\n",
              "    <tr>\n",
              "      <th>9996</th>\n",
              "      <td>49996</td>\n",
              "      <td>9</td>\n",
              "    </tr>\n",
              "    <tr>\n",
              "      <th>9997</th>\n",
              "      <td>49997</td>\n",
              "      <td>6</td>\n",
              "    </tr>\n",
              "    <tr>\n",
              "      <th>9998</th>\n",
              "      <td>49998</td>\n",
              "      <td>5</td>\n",
              "    </tr>\n",
              "    <tr>\n",
              "      <th>9999</th>\n",
              "      <td>49999</td>\n",
              "      <td>5</td>\n",
              "    </tr>\n",
              "  </tbody>\n",
              "</table>\n",
              "<p>10000 rows × 2 columns</p>\n",
              "</div>"
            ]
          },
          "metadata": {
            "tags": []
          },
          "execution_count": 107
        }
      ]
    },
    {
      "cell_type": "markdown",
      "metadata": {
        "id": "xeTIcpeLJjW9"
      },
      "source": [
        "## SVC - 76.3% (BEST RESULT)"
      ]
    },
    {
      "cell_type": "code",
      "metadata": {
        "colab": {
          "base_uri": "https://localhost:8080/"
        },
        "id": "Akunyv_uJkgk",
        "outputId": "fa5331e0-c988-47e4-bb6f-46801d10a183"
      },
      "source": [
        "svm_clf = SVC()\n",
        "svm_clf.fit(train_x, training_data_clean.label)"
      ],
      "execution_count": null,
      "outputs": [
        {
          "output_type": "execute_result",
          "data": {
            "text/plain": [
              "SVC()"
            ]
          },
          "metadata": {
            "tags": []
          },
          "execution_count": 79
        }
      ]
    },
    {
      "cell_type": "code",
      "metadata": {
        "colab": {
          "base_uri": "https://localhost:8080/"
        },
        "id": "CLIf1Zh9Js3u",
        "outputId": "118e06e9-4e6a-47c0-8a89-00b3a4dd5d11"
      },
      "source": [
        "y_pred = svm_clf.predict(valid_tfIdf)\n",
        "eval(y_pred, validation_data_clean.label)"
      ],
      "execution_count": null,
      "outputs": [
        {
          "output_type": "stream",
          "text": [
            "Accuracy: 0.717\n"
          ],
          "name": "stdout"
        }
      ]
    },
    {
      "cell_type": "code",
      "metadata": {
        "id": "LjB9jZMIdoQV"
      },
      "source": [
        "param_grid = {'C':[0.25, 0.5, 0.7, 0.85 ,1 , 1.25, 1.5]}\n",
        "grid = GridSearchCV(LinearSVC(),param_grid,refit = True, verbose=2)\n",
        "grid.fit(train_tfIdf, training_data_clean.label)"
      ],
      "execution_count": null,
      "outputs": []
    },
    {
      "cell_type": "code",
      "metadata": {
        "colab": {
          "base_uri": "https://localhost:8080/"
        },
        "id": "aA5EAEiBOb1m",
        "outputId": "5fea0083-fe9c-463a-ef92-43768250fd9d"
      },
      "source": [
        "clf = LinearSVC(C=0.5, class_weight=class_weights)\n",
        "clf.fit(train_x, train_clean.label)"
      ],
      "execution_count": null,
      "outputs": [
        {
          "output_type": "execute_result",
          "data": {
            "text/plain": [
              "LinearSVC(C=0.5,\n",
              "          class_weight={0: 0.9409379310344828, 1: 0.9432798672566372,\n",
              "                        2: 0.9657134767836919, 3: 0.9456334904352648,\n",
              "                        4: 0.9464206437291898, 5: 1.9502001143510577,\n",
              "                        6: 0.95489921612542, 7: 0.9466833194560089,\n",
              "                        8: 0.9440631054525325, 9: 0.9506410256410256})"
            ]
          },
          "metadata": {
            "tags": []
          },
          "execution_count": 65
        }
      ]
    },
    {
      "cell_type": "code",
      "metadata": {
        "colab": {
          "base_uri": "https://localhost:8080/",
          "height": 538
        },
        "id": "ysCHChI1LksT",
        "outputId": "251cdca3-5b38-43b8-a871-1885f00c91fd"
      },
      "source": [
        "saveModelResult(clf, test_tfIdf, \"prediction\")"
      ],
      "execution_count": null,
      "outputs": [
        {
          "output_type": "stream",
          "text": [
            "   app_id  label\n",
            "0   40000      3\n",
            "1   40001      8\n",
            "2   40002      5\n",
            "3   40003      9\n",
            "4   40004      3\n",
            "model_svm  saved!\n"
          ],
          "name": "stdout"
        },
        {
          "output_type": "execute_result",
          "data": {
            "text/html": [
              "<div>\n",
              "<style scoped>\n",
              "    .dataframe tbody tr th:only-of-type {\n",
              "        vertical-align: middle;\n",
              "    }\n",
              "\n",
              "    .dataframe tbody tr th {\n",
              "        vertical-align: top;\n",
              "    }\n",
              "\n",
              "    .dataframe thead th {\n",
              "        text-align: right;\n",
              "    }\n",
              "</style>\n",
              "<table border=\"1\" class=\"dataframe\">\n",
              "  <thead>\n",
              "    <tr style=\"text-align: right;\">\n",
              "      <th></th>\n",
              "      <th>app_id</th>\n",
              "      <th>label</th>\n",
              "    </tr>\n",
              "  </thead>\n",
              "  <tbody>\n",
              "    <tr>\n",
              "      <th>0</th>\n",
              "      <td>40000</td>\n",
              "      <td>3</td>\n",
              "    </tr>\n",
              "    <tr>\n",
              "      <th>1</th>\n",
              "      <td>40001</td>\n",
              "      <td>8</td>\n",
              "    </tr>\n",
              "    <tr>\n",
              "      <th>2</th>\n",
              "      <td>40002</td>\n",
              "      <td>5</td>\n",
              "    </tr>\n",
              "    <tr>\n",
              "      <th>3</th>\n",
              "      <td>40003</td>\n",
              "      <td>9</td>\n",
              "    </tr>\n",
              "    <tr>\n",
              "      <th>4</th>\n",
              "      <td>40004</td>\n",
              "      <td>3</td>\n",
              "    </tr>\n",
              "    <tr>\n",
              "      <th>...</th>\n",
              "      <td>...</td>\n",
              "      <td>...</td>\n",
              "    </tr>\n",
              "    <tr>\n",
              "      <th>9995</th>\n",
              "      <td>49995</td>\n",
              "      <td>9</td>\n",
              "    </tr>\n",
              "    <tr>\n",
              "      <th>9996</th>\n",
              "      <td>49996</td>\n",
              "      <td>9</td>\n",
              "    </tr>\n",
              "    <tr>\n",
              "      <th>9997</th>\n",
              "      <td>49997</td>\n",
              "      <td>6</td>\n",
              "    </tr>\n",
              "    <tr>\n",
              "      <th>9998</th>\n",
              "      <td>49998</td>\n",
              "      <td>5</td>\n",
              "    </tr>\n",
              "    <tr>\n",
              "      <th>9999</th>\n",
              "      <td>49999</td>\n",
              "      <td>5</td>\n",
              "    </tr>\n",
              "  </tbody>\n",
              "</table>\n",
              "<p>10000 rows × 2 columns</p>\n",
              "</div>"
            ],
            "text/plain": [
              "      app_id  label\n",
              "0      40000      3\n",
              "1      40001      8\n",
              "2      40002      5\n",
              "3      40003      9\n",
              "4      40004      3\n",
              "...      ...    ...\n",
              "9995   49995      9\n",
              "9996   49996      9\n",
              "9997   49997      6\n",
              "9998   49998      5\n",
              "9999   49999      5\n",
              "\n",
              "[10000 rows x 2 columns]"
            ]
          },
          "metadata": {
            "tags": []
          },
          "execution_count": 84
        }
      ]
    },
    {
      "cell_type": "code",
      "metadata": {
        "id": "qOsmYpNKV5Ji"
      },
      "source": [
        ""
      ],
      "execution_count": null,
      "outputs": []
    }
  ]
}